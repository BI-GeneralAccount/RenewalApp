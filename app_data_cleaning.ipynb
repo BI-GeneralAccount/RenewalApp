{
 "cells": [
  {
   "cell_type": "code",
   "execution_count": 1,
   "metadata": {},
   "outputs": [],
   "source": [
    "# import necessary libraries\n",
    "import pandas as pd\n",
    "import numpy as np"
   ]
  },
  {
   "cell_type": "code",
   "execution_count": 2,
   "metadata": {},
   "outputs": [],
   "source": [
    "# Reading a CSV file named 'renewal_app_df.csv' from the '_data' directory into a pandas DataFrame called 'renewal_raw_df'\n",
    "renewal_raw_df = pd.read_csv('../_data/renewal_app_df.csv')\n",
    "# Converts the 'customer_id' column to string type, then pads each value with leading zeros to ensure a length of 8 characters.\n",
    "renewal_raw_df['customer_id'] = renewal_raw_df['customer_id'].astype(str).str.zfill(8)"
   ]
  },
  {
   "cell_type": "code",
   "execution_count": 3,
   "metadata": {},
   "outputs": [],
   "source": [
    "# Drop duplicates based on customer_id, keeping only the last occurrence\n",
    "renewal_raw_df = renewal_raw_df.drop_duplicates(subset='customer_id', keep='last')"
   ]
  },
  {
   "cell_type": "code",
   "execution_count": 4,
   "metadata": {},
   "outputs": [],
   "source": [
    "# Create a new DataFrame 'new_joined_before_2017_df' by filtering rows from 'tenure_cal_df'.\n",
    "new_joined_before_2017_df = pd.DataFrame(renewal_raw_df[renewal_raw_df['MOST_RECENT_ADD_DATE'] < '2017-01-01'])"
   ]
  },
  {
   "cell_type": "code",
   "execution_count": 5,
   "metadata": {},
   "outputs": [],
   "source": [
    "# Filter rows from 'renewed_indicator_df' where the 'cycle_begin_date' column has a value of '0'.\n",
    "one_renewal_date_df=renewal_raw_df[renewal_raw_df['cycle_begin_date']=='0']"
   ]
  },
  {
   "cell_type": "code",
   "execution_count": 6,
   "metadata": {},
   "outputs": [],
   "source": [
    "# Combine the 'customer_id' columns from 'new_joined_before_2017_df' and 'one_renewal_date_df' into a single Series.\n",
    "exclude_ids = pd.concat([new_joined_before_2017_df['customer_id'], one_renewal_date_df['customer_id']]).drop_duplicates(keep=False)\n",
    "\n",
    "# Filter rows from 'renewal_raw_df' where the 'customer_id' is not in the 'exclude_ids' list.\n",
    "renewal_filtered_df = renewal_raw_df[~renewal_raw_df['customer_id'].isin(exclude_ids)] # This creates a new DataFrame 'renewal_filtered_df' that excludes these IDs."
   ]
  },
  {
   "cell_type": "code",
   "execution_count": 7,
   "metadata": {},
   "outputs": [],
   "source": [
    "# Create a new DataFrame 'renwal_df' by dropping unnecessary columns from 'renewal_filtered_df'.\n",
    "renewal_df = renewal_filtered_df.drop(['MOST_RECENT_ADD_DATE', 'CYCLE_BEGIN_DATE', 'CYCLE_END_DATE', 'GRACE_DATE', 'Group Member Dues',\n",
    "                                      'PAYMENT_STATUS', 'AS_OF_DATE', 'ABASET_SUBCODE_DESCR', 'cycle_begin_date', 'Member Dues',\n",
    "                                      'cycle_end_date', 'product_code', 'order_no', 'order_line_no', 'grace_date', 'DOB',\n",
    "                                      'the_rank', 'member_renewal_indicator', 'earliest_begin_date', 'order_count'], axis=1) # The 'axis=1' parameter specifies that these columns are being removed (as opposed to rows)."
   ]
  },
  {
   "cell_type": "code",
   "execution_count": 8,
   "metadata": {},
   "outputs": [],
   "source": [
    "# Assign new columns for bundled data to the `renewal_df` dataframe by summing specific groups of columns\n",
    "renewal_df = renewal_df.assign(\n",
    "    article_order=renewal_df[['Article Download', 'Journal', 'Magazine', 'Newsletter', 'Single Issue']].sum(axis=1),\n",
    "    books_order=renewal_df[['Book', 'E-Book', 'Chapter Download']].sum(axis=1),\n",
    "    contribution_order=renewal_df[['Contribution', 'Donation']].sum(axis=1),\n",
    "    digital_education_order=renewal_df[['Webinar', 'On-Demand']].sum(axis=1),\n",
    "    ecd_misc_order=renewal_df[['Course Materials Download']].sum(axis=1),\n",
    "    events_misc_order=renewal_df[['Product', 'Exhibitor', 'Sponsorship Non-UBIT', 'Sponsorship UBIT']].sum(axis=1),\n",
    "    inventory_misc_order=renewal_df[['Brochure', 'CD-ROM', 'Directory', 'Errata', 'Letter', 'Loose Leaf', 'Pamphlet', 'Standing Order']].sum(axis=1),\n",
    "    meeting_order=renewal_df[['Meeting', 'Virtual Meeting', 'Invite Only Meeting', 'ABA Midyear', 'In-Person']].sum(axis=1),\n",
    "    merchandise_order=renewal_df[['General Merchandise', 'Clothing']].sum(axis=1),\n",
    "    misc_order=renewal_df[['Audio Download', 'Inventory Product Package']].sum(axis=1)\n",
    ").drop(columns=[\n",
    "    # Drop all the original columns that were summed into the new columns\n",
    "    'Article Download', 'Journal', 'Magazine', 'Newsletter', 'Single Issue',\n",
    "    'Book', 'E-Book', 'Chapter Download', 'Contribution', 'Donation',\n",
    "    'Webinar', 'On-Demand', 'Course Materials Download','Product',\n",
    "    'Exhibitor', 'Sponsorship Non-UBIT', 'Sponsorship UBIT',\n",
    "    'Brochure', 'CD-ROM', 'Directory', 'Errata', 'Letter',\n",
    "    'Loose Leaf', 'Pamphlet', 'Standing Order','Meeting',\n",
    "    'Virtual Meeting', 'Invite Only Meeting','ABA Midyear',\n",
    "    'In-Person', 'General Merchandise', 'Clothing',\n",
    "    'Audio Download', 'Inventory Product Package'\n",
    "])"
   ]
  },
  {
   "cell_type": "code",
   "execution_count": 9,
   "metadata": {},
   "outputs": [],
   "source": [
    "# Define categories\n",
    "territories = ['AS', 'FM', 'GU', 'MH', 'MP', 'PW', 'PR', 'VI']\n",
    "military = ['AP', 'AE']\n",
    "top_5_states = ['CA', 'NY', 'TX', 'IL', 'FL']\n",
    "northeast = ['CT', 'ME', 'MA', 'NH', 'RI', 'VT', 'NJ', 'PA']\n",
    "midwest = ['IN', 'IA', 'KS', 'MI', 'MN', 'MO', 'NE', 'ND', 'OH', 'SD', 'WI']\n",
    "south = ['DE', 'GA', 'KY', 'MD', 'NC', 'SC', 'TN', 'VA', 'WV', 'AL', 'MS', 'AR', 'LA', 'OK', 'DC']\n",
    "west = ['AK', 'AZ', 'CO', 'HI', 'ID', 'MT', 'NV', 'NM', 'OR', 'UT', 'WA', 'WY']\n",
    "\n",
    "# Function to categorize\n",
    "def categorize_state(state):\n",
    "    clean_state = str(state).strip().upper()\n",
    "    if state in top_5_states:\n",
    "        return state\n",
    "    elif state in northeast:\n",
    "        return 'Northeast'\n",
    "    elif state in midwest:\n",
    "        return 'Midwest'\n",
    "    elif state in south:\n",
    "        return 'South'\n",
    "    elif state in west:\n",
    "        return 'West'\n",
    "    elif state in territories:\n",
    "        return 'Territories'\n",
    "    elif state in military:\n",
    "        return 'Overseas military'\n",
    "    else:\n",
    "        return 'International'\n",
    "\n",
    "# Apply categorization\n",
    "renewal_df['STATE'] = renewal_df['STATE'].apply(categorize_state)"
   ]
  },
  {
   "cell_type": "code",
   "execution_count": 10,
   "metadata": {},
   "outputs": [],
   "source": [
    "practice_type = ['0', 'Solo Practitioner', 'Government', 'Small Firm (2-5 Attorneys)', 'Corporate',\n",
    "            'Private Practice (6+ Attorneys)', 'Non-Profit','Public Interest/Legal Aid']\n",
    "# Function to categorize practice\n",
    "def categorize_practice(practice):\n",
    "    clean_state = str(practice).strip().lower()\n",
    "    if practice in practice_type:\n",
    "        return practice\n",
    "    else:\n",
    "       return 'Other'\n",
    "    \n",
    "# Apply categorization\n",
    "renewal_df['ABASET_CODE_DESCR'] = renewal_df['ABASET_CODE_DESCR'].apply(categorize_practice)"
   ]
  },
  {
   "cell_type": "code",
   "execution_count": 11,
   "metadata": {},
   "outputs": [],
   "source": [
    "renewal_df.columns = renewal_df.columns.str.lower()\n",
    "renewal_df.columns = renewal_df.columns.str.replace(' ', '_')\n",
    "renewal_df.columns = renewal_df.columns.str.replace('-', '_')"
   ]
  },
  {
   "cell_type": "code",
   "execution_count": 12,
   "metadata": {},
   "outputs": [],
   "source": [
    "# dropping the following columns as they are imbalanced as per the eda report\n",
    "renewal_df = renewal_df.drop(['events_cle', 'misc_order', 'disability_indicator', 'ethnicity_code',\n",
    "                              'auto_enroll_section_count', 'gender_code', 'descr'], axis=1)"
   ]
  },
  {
   "cell_type": "markdown",
   "metadata": {},
   "source": [
    "#### Frequency Encoding"
   ]
  },
  {
   "cell_type": "code",
   "execution_count": 14,
   "metadata": {},
   "outputs": [],
   "source": [
    "# List of categorical columns to frequency-encode\n",
    "categorical_cols = ['abaset_code_descr', 'state']\n",
    "\n",
    "# Apply frequency encoding using a loop\n",
    "for col in categorical_cols:\n",
    "    frequency  = renewal_df[col].value_counts(normalize=True)\n",
    "    renewal_df[col + '_encoded'] = renewal_df[col].map(frequency)"
   ]
  },
  {
   "cell_type": "code",
   "execution_count": 15,
   "metadata": {},
   "outputs": [],
   "source": [
    "columns_to_check= ['dues_required_section_count', 'no_charge_section_count', 'member_groups', 'article',\n",
    "                   'books','on_demand_video','news_aba', 'podcast', 'aba_advantage', 'article_order', 'age',\n",
    "                   'books_order', 'contribution_order', 'digital_education_order', 'ecd_misc_order',\n",
    "                   'events_misc_order', 'inventory_misc_order', 'meeting_order', 'merchandise_order']"
   ]
  },
  {
   "cell_type": "code",
   "execution_count": 16,
   "metadata": {},
   "outputs": [
    {
     "name": "stdout",
     "output_type": "stream",
     "text": [
      "Columns selected for log transformation based on skewness > 0.5:\n",
      "['dues_required_section_count', 'no_charge_section_count', 'member_groups', 'article', 'books', 'on_demand_video', 'news_aba', 'podcast', 'aba_advantage', 'article_order', 'age', 'books_order', 'contribution_order', 'digital_education_order', 'ecd_misc_order', 'events_misc_order', 'inventory_misc_order', 'meeting_order', 'merchandise_order']\n"
     ]
    }
   ],
   "source": [
    "skewness= renewal_df[columns_to_check].skew()\n",
    "## < ±0.5: Fairly symmetrical (no need to transform)\n",
    "## 0.5–1: Moderate skewness (may need transformation)\n",
    "## > 1: Highly skewed (need transformation) log transformation\n",
    "columns_to_log_transform = skewness[skewness > 0.5].index.tolist()\n",
    "print(\"Columns selected for log transformation based on skewness > 0.5:\")\n",
    "print(columns_to_log_transform)\n",
    "\n",
    "renewal_df_log = renewal_df.copy()\n",
    "renewal_df_log[columns_to_log_transform] = renewal_df_log[columns_to_log_transform].apply(np.log1p)"
   ]
  },
  {
   "cell_type": "code",
   "execution_count": 17,
   "metadata": {},
   "outputs": [],
   "source": [
    "renewal_df_log=renewal_df_log.drop(['abaset_code_descr', 'state', # these columns are already encoded\n",
    "                                    # these columns came low on feature importance as per RFE feature selection\n",
    "                                    'ecd_misc_order', 'events_misc_order', 'inventory_misc_order', 'merchandise_order', 'article_order',\n",
    "                                    'news_aba', 'contribution_order', 'podcast', 'books_order', 'on_demand_video'], axis=1)"
   ]
  },
  {
   "cell_type": "code",
   "execution_count": 18,
   "metadata": {},
   "outputs": [
    {
     "data": {
      "text/html": [
       "<div>\n",
       "<style scoped>\n",
       "    .dataframe tbody tr th:only-of-type {\n",
       "        vertical-align: middle;\n",
       "    }\n",
       "\n",
       "    .dataframe tbody tr th {\n",
       "        vertical-align: top;\n",
       "    }\n",
       "\n",
       "    .dataframe thead th {\n",
       "        text-align: right;\n",
       "    }\n",
       "</style>\n",
       "<table border=\"1\" class=\"dataframe\">\n",
       "  <thead>\n",
       "    <tr style=\"text-align: right;\">\n",
       "      <th></th>\n",
       "      <th>customer_id</th>\n",
       "      <th>dues_required_section_count</th>\n",
       "      <th>no_charge_section_count</th>\n",
       "      <th>member_renewed_indicator</th>\n",
       "      <th>member_groups</th>\n",
       "      <th>article</th>\n",
       "      <th>books</th>\n",
       "      <th>aba_advantage</th>\n",
       "      <th>age</th>\n",
       "      <th>digital_education_order</th>\n",
       "      <th>meeting_order</th>\n",
       "      <th>abaset_code_descr_encoded</th>\n",
       "      <th>state_encoded</th>\n",
       "    </tr>\n",
       "  </thead>\n",
       "  <tbody>\n",
       "    <tr>\n",
       "      <th>0</th>\n",
       "      <td>04388002</td>\n",
       "      <td>0.000000</td>\n",
       "      <td>0.000000</td>\n",
       "      <td>1.0</td>\n",
       "      <td>0.693147</td>\n",
       "      <td>0.000000</td>\n",
       "      <td>0.0</td>\n",
       "      <td>0.0</td>\n",
       "      <td>0.000000</td>\n",
       "      <td>0.000000</td>\n",
       "      <td>0.0</td>\n",
       "      <td>0.103893</td>\n",
       "      <td>0.066856</td>\n",
       "    </tr>\n",
       "    <tr>\n",
       "      <th>1</th>\n",
       "      <td>05844918</td>\n",
       "      <td>0.693147</td>\n",
       "      <td>0.693147</td>\n",
       "      <td>1.0</td>\n",
       "      <td>1.945910</td>\n",
       "      <td>2.397895</td>\n",
       "      <td>0.0</td>\n",
       "      <td>0.0</td>\n",
       "      <td>0.000000</td>\n",
       "      <td>1.098612</td>\n",
       "      <td>0.0</td>\n",
       "      <td>0.101171</td>\n",
       "      <td>0.280795</td>\n",
       "    </tr>\n",
       "    <tr>\n",
       "      <th>2</th>\n",
       "      <td>03240565</td>\n",
       "      <td>0.000000</td>\n",
       "      <td>0.000000</td>\n",
       "      <td>0.0</td>\n",
       "      <td>0.693147</td>\n",
       "      <td>0.000000</td>\n",
       "      <td>0.0</td>\n",
       "      <td>0.0</td>\n",
       "      <td>3.637586</td>\n",
       "      <td>0.000000</td>\n",
       "      <td>0.0</td>\n",
       "      <td>0.087800</td>\n",
       "      <td>0.280795</td>\n",
       "    </tr>\n",
       "    <tr>\n",
       "      <th>3</th>\n",
       "      <td>03215169</td>\n",
       "      <td>0.693147</td>\n",
       "      <td>0.000000</td>\n",
       "      <td>0.0</td>\n",
       "      <td>1.098612</td>\n",
       "      <td>0.000000</td>\n",
       "      <td>0.0</td>\n",
       "      <td>0.0</td>\n",
       "      <td>3.496508</td>\n",
       "      <td>0.000000</td>\n",
       "      <td>0.0</td>\n",
       "      <td>0.103893</td>\n",
       "      <td>0.113123</td>\n",
       "    </tr>\n",
       "    <tr>\n",
       "      <th>5</th>\n",
       "      <td>03208841</td>\n",
       "      <td>0.000000</td>\n",
       "      <td>0.000000</td>\n",
       "      <td>0.0</td>\n",
       "      <td>0.693147</td>\n",
       "      <td>0.000000</td>\n",
       "      <td>0.0</td>\n",
       "      <td>0.0</td>\n",
       "      <td>3.401197</td>\n",
       "      <td>0.000000</td>\n",
       "      <td>0.0</td>\n",
       "      <td>0.083895</td>\n",
       "      <td>0.105550</td>\n",
       "    </tr>\n",
       "  </tbody>\n",
       "</table>\n",
       "</div>"
      ],
      "text/plain": [
       "  customer_id  dues_required_section_count  no_charge_section_count  \\\n",
       "0    04388002                     0.000000                 0.000000   \n",
       "1    05844918                     0.693147                 0.693147   \n",
       "2    03240565                     0.000000                 0.000000   \n",
       "3    03215169                     0.693147                 0.000000   \n",
       "5    03208841                     0.000000                 0.000000   \n",
       "\n",
       "   member_renewed_indicator  member_groups   article  books  aba_advantage  \\\n",
       "0                       1.0       0.693147  0.000000    0.0            0.0   \n",
       "1                       1.0       1.945910  2.397895    0.0            0.0   \n",
       "2                       0.0       0.693147  0.000000    0.0            0.0   \n",
       "3                       0.0       1.098612  0.000000    0.0            0.0   \n",
       "5                       0.0       0.693147  0.000000    0.0            0.0   \n",
       "\n",
       "        age  digital_education_order  meeting_order  \\\n",
       "0  0.000000                 0.000000            0.0   \n",
       "1  0.000000                 1.098612            0.0   \n",
       "2  3.637586                 0.000000            0.0   \n",
       "3  3.496508                 0.000000            0.0   \n",
       "5  3.401197                 0.000000            0.0   \n",
       "\n",
       "   abaset_code_descr_encoded  state_encoded  \n",
       "0                   0.103893       0.066856  \n",
       "1                   0.101171       0.280795  \n",
       "2                   0.087800       0.280795  \n",
       "3                   0.103893       0.113123  \n",
       "5                   0.083895       0.105550  "
      ]
     },
     "execution_count": 18,
     "metadata": {},
     "output_type": "execute_result"
    }
   ],
   "source": [
    "renewal_df_log.head()"
   ]
  }
 ],
 "metadata": {
  "kernelspec": {
   "display_name": "renewal_app",
   "language": "python",
   "name": "python3"
  },
  "language_info": {
   "codemirror_mode": {
    "name": "ipython",
    "version": 3
   },
   "file_extension": ".py",
   "mimetype": "text/x-python",
   "name": "python",
   "nbconvert_exporter": "python",
   "pygments_lexer": "ipython3",
   "version": "3.10.16"
  }
 },
 "nbformat": 4,
 "nbformat_minor": 2
}
